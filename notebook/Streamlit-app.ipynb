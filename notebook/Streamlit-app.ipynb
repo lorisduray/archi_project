{
 "cells": [
  {
   "cell_type": "markdown",
   "metadata": {},
   "source": [
    "# Architectural Styles Recognition App\n",
    "\n",
    "## 1. App Overview\n",
    "\n",
    "### a. Purpose\n",
    "**Objective:** The app enables users to upload or capture images of architectural styles. It then identifies the style and provides detailed information about it.\n",
    "\n",
    "## 2. Core Features\n",
    "\n",
    "### a. Image Upload or Capture\n",
    "- **Upload Image:** Users can upload an image from their device.\n",
    "- **Capture Image:** Users can take a picture using their device’s camera.\n",
    "\n",
    "### b. Style Recognition\n",
    "- **Automatic Detection:** The app uses a pre-trained model to recognize the architectural style from the uploaded or captured image.\n",
    "\n",
    "### c. Information Display\n",
    "- **Style Information:** Once the style is recognized, the app displays relevant information, including a brief description, historical context, and key features of the style.\n",
    "\n",
    "## 3. Design and Layout\n",
    "\n",
    "### a. Home Page\n",
    "- **Upload/Camera Button:** Buttons to upload an image or activate the camera.\n",
    "- **Instruction Text:** Brief instructions on how to use the app.\n",
    "\n",
    "### b. Image Upload/Camera Page\n",
    "- **Upload Interface:** Section for users to select and upload an image.\n",
    "- **Camera Interface:** Section to capture a photo with a live preview.\n",
    "\n",
    "### c. Results Page\n",
    "- **Recognized Style:** Display the name of the identified architectural style.\n",
    "- **Information Section:** Show detailed information about the recognized style.\n",
    "- **Example Image:** Display an example of the architectural style for visual reference."
   ]
  },
  {
   "cell_type": "code",
   "execution_count": null,
   "metadata": {},
   "outputs": [],
   "source": []
  }
 ],
 "metadata": {
  "kernelspec": {
   "display_name": "architectural_project",
   "language": "python",
   "name": "python3"
  },
  "language_info": {
   "codemirror_mode": {
    "name": "ipython",
    "version": 3
   },
   "file_extension": ".py",
   "mimetype": "text/x-python",
   "name": "python",
   "nbconvert_exporter": "python",
   "pygments_lexer": "ipython3",
   "version": "3.10.6"
  }
 },
 "nbformat": 4,
 "nbformat_minor": 2
}
